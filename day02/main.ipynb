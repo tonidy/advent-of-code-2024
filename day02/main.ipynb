{
 "cells": [
  {
   "cell_type": "markdown",
   "metadata": {},
   "source": [
    "## Part 1"
   ]
  },
  {
   "cell_type": "code",
   "execution_count": 1,
   "metadata": {},
   "outputs": [
    {
     "name": "stdout",
     "output_type": "stream",
     "text": [
      "Number of Safe Reports: 257\n"
     ]
    }
   ],
   "source": [
    "def is_safe_report(report):\n",
    "    # Check if the report is monotonic (either increasing or decreasing)\n",
    "    increasing = all(report[i] <= report[i + 1] for i in range(len(report) - 1))\n",
    "    decreasing = all(report[i] >= report[i + 1] for i in range(len(report) - 1))\n",
    "    \n",
    "    # Check if differences between adjacent levels are within the range [1, 3]\n",
    "    valid_differences = all(1 <= abs(report[i] - report[i + 1]) <= 3 for i in range(len(report) - 1))\n",
    "    \n",
    "    # A report is safe if it is monotonic and has valid differences\n",
    "    return (increasing or decreasing) and valid_differences\n",
    "\n",
    "def count_safe_reports(file_path):\n",
    "    safe_count = 0\n",
    "    \n",
    "    # Read the reports from the file\n",
    "    with open(file_path, 'r') as file:\n",
    "        for line in file:\n",
    "            # Parse the report as a list of integers\n",
    "            report = list(map(int, line.split()))\n",
    "            # Check if the report is safe\n",
    "            if is_safe_report(report):\n",
    "                safe_count += 1\n",
    "    \n",
    "    return safe_count\n",
    "\n",
    "# Path to the input file\n",
    "file_path = 'input.txt'  # Replace with your actual file name\n",
    "\n",
    "# Count and print the number of safe reports\n",
    "safe_reports = count_safe_reports(file_path)\n",
    "print(\"Number of Safe Reports:\", safe_reports)"
   ]
  },
  {
   "cell_type": "markdown",
   "metadata": {},
   "source": [
    "## Part 2"
   ]
  },
  {
   "cell_type": "code",
   "execution_count": null,
   "metadata": {},
   "outputs": [
    {
     "name": "stdout",
     "output_type": "stream",
     "text": [
      "Number of Safe Reports with Dampener: 328\n"
     ]
    }
   ],
   "source": [
    "# Check if a report can be made safe by removing one level\n",
    "def can_be_safe_with_one_removal(report):\n",
    "    for i in range(len(report)):\n",
    "        # Remove the i-th level and check if the remaining report is safe\n",
    "        modified_report = report[:i] + report[i+1:]\n",
    "        if is_safe_report(modified_report):\n",
    "            return True\n",
    "    return False\n",
    "\n",
    "# Count the number of safe reports\n",
    "def count_safe_reports_with_dampener(file_path):\n",
    "    safe_count = 0\n",
    "    \n",
    "    # Read the reports from the file\n",
    "    with open(file_path, 'r') as file:\n",
    "        for line in file:\n",
    "            # Parse the report as a list of integers\n",
    "            report = list(map(int, line.split()))\n",
    "            \n",
    "            # Check if the report is safe or can be made safe\n",
    "            if is_safe_report(report) or can_be_safe_with_one_removal(report):\n",
    "                safe_count += 1\n",
    "    \n",
    "    return safe_count\n",
    "\n",
    "# File path to the input file\n",
    "file_path = 'input.txt'  # Replace with your actual file name\n",
    "\n",
    "# Count and print the number of safe reports\n",
    "safe_reports = count_safe_reports_with_dampener(file_path)\n",
    "print(\"Number of Safe Reports with Dampener:\", safe_reports)"
   ]
  }
 ],
 "metadata": {
  "kernelspec": {
   "display_name": "Python 3",
   "language": "python",
   "name": "python3"
  },
  "language_info": {
   "codemirror_mode": {
    "name": "ipython",
    "version": 3
   },
   "file_extension": ".py",
   "mimetype": "text/x-python",
   "name": "python",
   "nbconvert_exporter": "python",
   "pygments_lexer": "ipython3",
   "version": "3.9.6"
  }
 },
 "nbformat": 4,
 "nbformat_minor": 2
}
