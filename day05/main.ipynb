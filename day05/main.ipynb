{
 "cells": [
  {
   "cell_type": "markdown",
   "metadata": {},
   "source": [
    "## Part 1"
   ]
  },
  {
   "cell_type": "code",
   "execution_count": 2,
   "metadata": {},
   "outputs": [
    {
     "name": "stdout",
     "output_type": "stream",
     "text": [
      "Sum of middle pages of correctly ordered updates: 5166\n"
     ]
    }
   ],
   "source": [
    "def parse_input(file_path):\n",
    "    with open(file_path, 'r') as f:\n",
    "        data = f.read().strip().split('\\n\\n')\n",
    "\n",
    "    # First section: page ordering rules\n",
    "    rules = [line.split('|') for line in data[0].splitlines()]\n",
    "    rules = [(int(a), int(b)) for a, b in rules]\n",
    "\n",
    "    # Second section: updates\n",
    "    updates = [list(map(int, line.split(','))) for line in data[1].splitlines()]\n",
    "\n",
    "    return rules, updates\n",
    "\n",
    "def is_update_ordered(update, rules):\n",
    "    # Build a dictionary for quick look-up of index in the update\n",
    "    position = {page: i for i, page in enumerate(update)}\n",
    "\n",
    "    # Check all rules that apply to the pages in the update\n",
    "    for a, b in rules:\n",
    "        if a in position and b in position:\n",
    "            if position[a] > position[b]:\n",
    "                return False\n",
    "    return True\n",
    "\n",
    "def find_middle_page(update):\n",
    "    n = len(update)\n",
    "    return update[n // 2]  # Middle page (integer division)\n",
    "\n",
    "def compute_sum_of_middle_pages(file_path):\n",
    "    rules, updates = parse_input(file_path)\n",
    "    total = 0\n",
    "\n",
    "    for update in updates:\n",
    "        if is_update_ordered(update, rules):\n",
    "            middle_page = find_middle_page(update)\n",
    "            total += middle_page\n",
    "\n",
    "    return total\n",
    "\n",
    "# Path to the input file\n",
    "file_path = 'input.txt'  # Replace with your input file path\n",
    "\n",
    "# Compute and print the result\n",
    "result = compute_sum_of_middle_pages(file_path)\n",
    "print(\"Sum of middle pages of correctly ordered updates:\", result)"
   ]
  },
  {
   "cell_type": "markdown",
   "metadata": {},
   "source": [
    "## Part 2"
   ]
  },
  {
   "cell_type": "code",
   "execution_count": 4,
   "metadata": {},
   "outputs": [
    {
     "name": "stdout",
     "output_type": "stream",
     "text": [
      "Sum of middle pages for corrected updates: 4679\n"
     ]
    }
   ],
   "source": [
    "from collections import defaultdict, deque\n",
    "\n",
    "def parse_input2(file_path):\n",
    "    with open(file_path, 'r') as f:\n",
    "        data = f.read().strip().split('\\n\\n')\n",
    "\n",
    "    # First section: page ordering rules\n",
    "    rules = [line.split('|') for line in data[0].splitlines()]\n",
    "    rules = [(int(a), int(b)) for a, b in rules]\n",
    "\n",
    "    # Second section: updates\n",
    "    updates = [list(map(int, line.split(','))) for line in data[1].splitlines()]\n",
    "\n",
    "    return rules, updates\n",
    "\n",
    "def is_update_ordered2(update, rules):\n",
    "    # Build a dictionary for quick look-up of index in the update\n",
    "    position = {page: i for i, page in enumerate(update)}\n",
    "\n",
    "    # Check all rules that apply to the pages in the update\n",
    "    for a, b in rules:\n",
    "        if a in position and b in position:\n",
    "            if position[a] > position[b]:\n",
    "                return False\n",
    "    return True\n",
    "\n",
    "def topological_sort(pages, rules):\n",
    "    # Create a graph and in-degree counter\n",
    "    graph = defaultdict(list)\n",
    "    in_degree = defaultdict(int)\n",
    "\n",
    "    for a, b in rules:\n",
    "        if a in pages and b in pages:\n",
    "            graph[a].append(b)\n",
    "            in_degree[b] += 1\n",
    "\n",
    "    # Initialize the queue with nodes having in-degree of 0\n",
    "    queue = deque([page for page in pages if in_degree[page] == 0])\n",
    "\n",
    "    sorted_pages = []\n",
    "    while queue:\n",
    "        current = queue.popleft()\n",
    "        sorted_pages.append(current)\n",
    "\n",
    "        for neighbor in graph[current]:\n",
    "            in_degree[neighbor] -= 1\n",
    "            if in_degree[neighbor] == 0:\n",
    "                queue.append(neighbor)\n",
    "\n",
    "    return sorted_pages\n",
    "\n",
    "def find_middle_page2(update):\n",
    "    n = len(update)\n",
    "    return update[n // 2]  # Middle page (integer division)\n",
    "\n",
    "def compute_sum_of_middle_pages_for_corrected_updates(file_path):\n",
    "    rules, updates = parse_input2(file_path)\n",
    "    total = 0\n",
    "\n",
    "    for update in updates:\n",
    "        if not is_update_ordered2(update, rules):\n",
    "            # Correct the update using topological sorting\n",
    "            corrected_update = topological_sort(update, rules)\n",
    "            middle_page = find_middle_page2(corrected_update)\n",
    "            total += middle_page\n",
    "\n",
    "    return total\n",
    "\n",
    "# Path to the input file\n",
    "file_path = 'input.txt'  # Replace with your input file path\n",
    "\n",
    "# Compute and print the result\n",
    "result = compute_sum_of_middle_pages_for_corrected_updates(file_path)\n",
    "print(\"Sum of middle pages for corrected updates:\", result)"
   ]
  }
 ],
 "metadata": {
  "kernelspec": {
   "display_name": "Python 3",
   "language": "python",
   "name": "python3"
  },
  "language_info": {
   "codemirror_mode": {
    "name": "ipython",
    "version": 3
   },
   "file_extension": ".py",
   "mimetype": "text/x-python",
   "name": "python",
   "nbconvert_exporter": "python",
   "pygments_lexer": "ipython3",
   "version": "3.9.6"
  }
 },
 "nbformat": 4,
 "nbformat_minor": 2
}
