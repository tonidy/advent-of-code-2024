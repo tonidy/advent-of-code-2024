{
 "cells": [
  {
   "cell_type": "markdown",
   "metadata": {},
   "source": [
    "## Part 1"
   ]
  },
  {
   "cell_type": "code",
   "execution_count": 2,
   "metadata": {},
   "outputs": [
    {
     "name": "stdout",
     "output_type": "stream",
     "text": [
      "Total occurrences of XMAS: 2560\n"
     ]
    }
   ],
   "source": [
    "def count_xmas_in_grid(grid, word=\"XMAS\"):\n",
    "    rows, cols = len(grid), len(grid[0])\n",
    "    word_len = len(word)\n",
    "    total_count = 0\n",
    "\n",
    "    # Helper function to check in a specific direction\n",
    "    def check_direction(r, c, dr, dc):\n",
    "        for i in range(word_len):\n",
    "            nr, nc = r + dr * i, c + dc * i\n",
    "            if nr < 0 or nr >= rows or nc < 0 or nc >= cols or grid[nr][nc] != word[i]:\n",
    "                return False\n",
    "        return True\n",
    "\n",
    "    # Directions: (row delta, col delta)\n",
    "    directions = [\n",
    "        (0, 1),   # Horizontal (right)\n",
    "        (0, -1),  # Horizontal (left)\n",
    "        (1, 0),   # Vertical (down)\n",
    "        (-1, 0),  # Vertical (up)\n",
    "        (1, 1),   # Diagonal (down-right)\n",
    "        (-1, -1), # Diagonal (up-left)\n",
    "        (1, -1),  # Diagonal (down-left)\n",
    "        (-1, 1)   # Diagonal (up-right)\n",
    "    ]\n",
    "\n",
    "    # Iterate over each cell in the grid\n",
    "    for r in range(rows):\n",
    "        for c in range(cols):\n",
    "            # Check all directions from this cell\n",
    "            for dr, dc in directions:\n",
    "                if check_direction(r, c, dr, dc):\n",
    "                    total_count += 1\n",
    "\n",
    "    return total_count\n",
    "\n",
    "\n",
    "# Read the grid from the input file\n",
    "def read_grid_from_file(file_path):\n",
    "    with open(file_path, 'r') as file:\n",
    "        grid = [line.strip() for line in file.readlines()]\n",
    "    return grid\n",
    "\n",
    "\n",
    "# Input file containing the word search grid\n",
    "file_path = 'input.txt'  # Replace with your file path\n",
    "\n",
    "# Read the grid and compute the result\n",
    "grid = read_grid_from_file(file_path)\n",
    "result = count_xmas_in_grid(grid)\n",
    "\n",
    "print(\"Total occurrences of XMAS:\", result)"
   ]
  },
  {
   "cell_type": "markdown",
   "metadata": {},
   "source": [
    "## Part 2"
   ]
  },
  {
   "cell_type": "code",
   "execution_count": 14,
   "metadata": {},
   "outputs": [
    {
     "name": "stdout",
     "output_type": "stream",
     "text": [
      "Total occurrences of X-MAS: 1910\n"
     ]
    }
   ],
   "source": [
    "def count_x_mas_in_grid(grid):\n",
    "    rows, cols = len(grid), len(grid[0])\n",
    "    total_count = 0\n",
    "\n",
    "    # Helper function to check if a diagonal forms an X-MAS pattern\n",
    "    def is_x_mas(r, c):\n",
    "        if r - 1 < 0 or r + 1 >= rows or c - 1 < 0 or c + 1 >= cols:\n",
    "            return False\n",
    "\n",
    "        # Extract the diagonal components\n",
    "        top_left = grid[r - 1][c - 1]\n",
    "        top_right = grid[r - 1][c + 1]\n",
    "        bottom_left = grid[r + 1][c - 1]\n",
    "        bottom_right = grid[r + 1][c + 1]\n",
    "\n",
    "        # Check if diagonals match valid X-MAS patterns\n",
    "        valid_parts = {\"MAS\", \"SAM\"}\n",
    "        return (\n",
    "            top_left + grid[r][c] + bottom_right in valid_parts\n",
    "            and bottom_left + grid[r][c] + top_right in valid_parts\n",
    "        )\n",
    "\n",
    "    # Iterate over each cell in the grid\n",
    "    for r in range(1, rows - 1):  # Avoid edges\n",
    "        for c in range(1, cols - 1):  # Avoid edges\n",
    "            if grid[r][c] == \"A\" and is_x_mas(r, c):\n",
    "                total_count += 1\n",
    "\n",
    "    return total_count\n",
    "\n",
    "\n",
    "# Read the grid from the input file\n",
    "def read_grid_from_file(file_path):\n",
    "    with open(file_path, 'r') as file:\n",
    "        grid = [line.strip() for line in file.readlines()]\n",
    "    # print(\"Loaded grid:\")  # Debugging\n",
    "    # for row in grid:\n",
    "    #     print(row)  # Debugging\n",
    "    return grid\n",
    "\n",
    "\n",
    "# Input file containing the word search grid\n",
    "file_path = 'input.txt'  # Replace with your file path\n",
    "\n",
    "# Read the grid and compute the result\n",
    "grid = read_grid_from_file(file_path)\n",
    "result = count_x_mas_in_grid(grid)\n",
    "\n",
    "print(\"Total occurrences of X-MAS:\", result)"
   ]
  }
 ],
 "metadata": {
  "kernelspec": {
   "display_name": "Python 3",
   "language": "python",
   "name": "python3"
  },
  "language_info": {
   "codemirror_mode": {
    "name": "ipython",
    "version": 3
   },
   "file_extension": ".py",
   "mimetype": "text/x-python",
   "name": "python",
   "nbconvert_exporter": "python",
   "pygments_lexer": "ipython3",
   "version": "3.9.6"
  }
 },
 "nbformat": 4,
 "nbformat_minor": 2
}
