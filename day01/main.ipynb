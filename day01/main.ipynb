{
 "cells": [
  {
   "cell_type": "markdown",
   "metadata": {},
   "source": [
    "## Part 1"
   ]
  },
  {
   "cell_type": "code",
   "execution_count": null,
   "metadata": {},
   "outputs": [
    {
     "name": "stdout",
     "output_type": "stream",
     "text": [
      "Total Distance: 3714264\n"
     ]
    }
   ],
   "source": [
    "# Function to read the lists from the file\n",
    "def read_lists_from_file(file_path):\n",
    "    left_list = []\n",
    "    right_list = []\n",
    "    \n",
    "    # Open the file and read line by line\n",
    "    with open(file_path, 'r') as file:\n",
    "        for line in file:\n",
    "            # Split the line into two numbers\n",
    "            left, right = map(int, line.split())\n",
    "            left_list.append(left)\n",
    "            right_list.append(right)\n",
    "    \n",
    "    return left_list, right_list\n",
    "\n",
    "# Function to calculate the total distance\n",
    "def calculate_total_distance(left_list, right_list):\n",
    "    # Step 1: Sort both lists\n",
    "    left_list.sort()\n",
    "    right_list.sort()\n",
    "    \n",
    "    # Step 2: Calculate total distance\n",
    "    total_distance = sum(abs(a - b) for a, b in zip(left_list, right_list))\n",
    "    \n",
    "    return total_distance\n",
    "\n",
    "# File path to the input file\n",
    "file_path = 'input.txt'  # Replace 'input.txt' with your actual file name\n",
    "\n",
    "# Step 1: Read the lists from the file\n",
    "left_list, right_list = read_lists_from_file(file_path)\n",
    "\n",
    "# Step 2: Calculate the total distance\n",
    "total_distance = calculate_total_distance(left_list, right_list)\n",
    "\n",
    "# Step 3: Output the result\n",
    "print(\"Total Distance:\", total_distance)"
   ]
  },
  {
   "cell_type": "markdown",
   "metadata": {},
   "source": [
    "## Part 2"
   ]
  },
  {
   "cell_type": "code",
   "execution_count": null,
   "metadata": {},
   "outputs": [
    {
     "name": "stdout",
     "output_type": "stream",
     "text": [
      "Similarity Score: 18805872\n"
     ]
    }
   ],
   "source": [
    "from collections import Counter\n",
    "\n",
    "# Function to calculate similarity score\n",
    "def calculate_similarity_score(left_list, right_list):\n",
    "    # Step 1: Count occurrences in the right list\n",
    "    right_counts = Counter(right_list)\n",
    "    \n",
    "    # Step 2: Calculate similarity score\n",
    "    similarity_score = 0\n",
    "    for number in left_list:\n",
    "        similarity_score += number * right_counts.get(number, 0)\n",
    "    \n",
    "    return similarity_score\n",
    "\n",
    "# File path to the input file\n",
    "file_path = 'input.txt'  # Replace 'input.txt' with your actual file name\n",
    "\n",
    "# Function to read lists from the file\n",
    "def read_lists_from_file(file_path):\n",
    "    left_list = []\n",
    "    right_list = []\n",
    "    \n",
    "    # Open the file and read line by line\n",
    "    with open(file_path, 'r') as file:\n",
    "        for line in file:\n",
    "            left, right = map(int, line.split())\n",
    "            left_list.append(left)\n",
    "            right_list.append(right)\n",
    "    \n",
    "    return left_list, right_list\n",
    "\n",
    "# Step 1: Read the lists from the file\n",
    "left_list, right_list = read_lists_from_file(file_path)\n",
    "\n",
    "# Step 2: Calculate the similarity score\n",
    "similarity_score = calculate_similarity_score(left_list, right_list)\n",
    "\n",
    "# Step 3: Output the result\n",
    "print(\"Similarity Score:\", similarity_score)"
   ]
  }
 ],
 "metadata": {
  "kernelspec": {
   "display_name": "Python 3",
   "language": "python",
   "name": "python3"
  },
  "language_info": {
   "codemirror_mode": {
    "name": "ipython",
    "version": 3
   },
   "file_extension": ".py",
   "mimetype": "text/x-python",
   "name": "python",
   "nbconvert_exporter": "python",
   "pygments_lexer": "ipython3",
   "version": "3.9.6"
  }
 },
 "nbformat": 4,
 "nbformat_minor": 2
}
