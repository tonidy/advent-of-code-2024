{
 "cells": [
  {
   "cell_type": "markdown",
   "metadata": {},
   "source": [
    "## Part 1"
   ]
  },
  {
   "cell_type": "code",
   "execution_count": 7,
   "metadata": {},
   "outputs": [
    {
     "name": "stdout",
     "output_type": "stream",
     "text": [
      "Total Sum of Valid Multiplications: 182780583\n"
     ]
    }
   ],
   "source": [
    "import re\n",
    "\n",
    "def sum_valid_multiplications_from_file(file_path):\n",
    "    # Regular expression to match valid mul(X,Y) instructions\n",
    "    pattern = r'mul\\((\\d{1,3}),(\\d{1,3})\\)'\n",
    "    \n",
    "    total = 0\n",
    "    \n",
    "    # Read the file line by line\n",
    "    with open(file_path, 'r') as file:\n",
    "        for line in file:\n",
    "            # Find all matches in the current line\n",
    "            matches = re.findall(pattern, line)\n",
    "            # Compute the results of the multiplications\n",
    "            for x, y in matches:\n",
    "                total += int(x) * int(y)\n",
    "    \n",
    "    return total\n",
    "\n",
    "# File path to the input file\n",
    "file_path = 'input.txt'  # Replace with the path to your input file\n",
    "\n",
    "# Compute and print the total\n",
    "result = sum_valid_multiplications_from_file(file_path)\n",
    "print(\"Total Sum of Valid Multiplications:\", result)"
   ]
  },
  {
   "cell_type": "markdown",
   "metadata": {},
   "source": [
    "## Part 2"
   ]
  },
  {
   "cell_type": "code",
   "execution_count": 17,
   "metadata": {},
   "outputs": [
    {
     "name": "stdout",
     "output_type": "stream",
     "text": [
      "Total Sum of Valid Enabled Multiplications: 90772405\n"
     ]
    }
   ],
   "source": [
    "def sum_valid_multiplications_with_conditions(file_path):\n",
    "    # Regular expressions to match valid instructions\n",
    "    mul_pattern = r'mul\\((\\d{1,3}),(\\d{1,3})\\)'\n",
    "    do_pattern = r'do\\(\\)'\n",
    "    dont_pattern = r\"don't\\(\\)\"\n",
    "    \n",
    "    total = 0\n",
    "    enabled = True  # Initial state: mul instructions are enabled\n",
    "    \n",
    "    try:\n",
    "        # Read the file line by line\n",
    "        with open(file_path, 'r') as file:\n",
    "            for line in file:\n",
    "                # Extract all `do()`, `don't()`, and valid `mul(X,Y)` instructions in order\n",
    "                instructions = re.findall(r\"do\\(\\)|don't\\(\\)|mul\\(\\d{1,3},\\d{1,3}\\)\", line)\n",
    "                \n",
    "                for instruction in instructions:\n",
    "                    if re.match(do_pattern, instruction):  # Check for `do()` instruction\n",
    "                        enabled = True\n",
    "                    elif re.match(dont_pattern, instruction):  # Check for `don't()` instruction\n",
    "                        enabled = False\n",
    "                    else:\n",
    "                        # Process valid mul instructions only if enabled\n",
    "                        match = re.match(mul_pattern, instruction)\n",
    "                        if enabled and match:\n",
    "                            x, y = map(int, match.groups())\n",
    "                            total += x * y\n",
    "    except FileNotFoundError:\n",
    "        print(f\"Error: File '{file_path}' not found.\")\n",
    "        return None  # Explicitly return None if file is missing\n",
    "    \n",
    "    return total\n",
    "\n",
    "# File path to the input file\n",
    "file_path = 'input.txt'  # Replace with your actual file name\n",
    "\n",
    "# Compute and print the total\n",
    "result = sum_valid_multiplications_with_conditions(file_path)\n",
    "print(\"Total Sum of Valid Enabled Multiplications:\", result)"
   ]
  }
 ],
 "metadata": {
  "kernelspec": {
   "display_name": "Python 3",
   "language": "python",
   "name": "python3"
  },
  "language_info": {
   "codemirror_mode": {
    "name": "ipython",
    "version": 3
   },
   "file_extension": ".py",
   "mimetype": "text/x-python",
   "name": "python",
   "nbconvert_exporter": "python",
   "pygments_lexer": "ipython3",
   "version": "3.9.6"
  }
 },
 "nbformat": 4,
 "nbformat_minor": 2
}
